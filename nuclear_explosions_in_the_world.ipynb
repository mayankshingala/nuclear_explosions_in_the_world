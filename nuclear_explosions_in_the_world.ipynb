{
 "cells": [
  {
   "cell_type": "markdown",
   "id": "70a59afc",
   "metadata": {},
   "source": [
    "# Setting up the data for visualization"
   ]
  },
  {
   "cell_type": "code",
   "execution_count": 1,
   "id": "46f5b525",
   "metadata": {},
   "outputs": [],
   "source": [
    "import numpy as np \n",
    "import pandas as pd \n",
    "import datetime\n",
    "import matplotlib.pyplot as plt\n",
    "import seaborn as sns\n",
    "import plotly.express as px\n",
    "%matplotlib inline\n",
    "from warnings import filterwarnings\n",
    "filterwarnings(\"ignore\")"
   ]
  },
  {
   "cell_type": "code",
   "execution_count": 2,
   "id": "364ed7a7",
   "metadata": {},
   "outputs": [],
   "source": [
    "# Read data from table\n",
    "# Dataset (\"/kaggle/input/nuclear-explosions-data/nuclear_explosions.csv\")\n",
    "nukes = pd.read_csv(\"nuclear_explosions.csv\")"
   ]
  },
  {
   "cell_type": "code",
   "execution_count": 3,
   "id": "45533b14",
   "metadata": {},
   "outputs": [
    {
     "data": {
      "text/plain": [
       "Index(['WEAPON SOURCE COUNTRY', 'WEAPON DEPLOYMENT LOCATION', 'Data.Source',\n",
       "       'Location.Cordinates.Latitude', 'Location.Cordinates.Longitude',\n",
       "       'Data.Magnitude.Body', 'Data.Magnitude.Surface',\n",
       "       'Location.Cordinates.Depth', 'Data.Yeild.Lower', 'Data.Yeild.Upper',\n",
       "       'Data.Purpose', 'Data.Name', 'Data.Type', 'Date.Day', 'Date.Month',\n",
       "       'Date.Year'],\n",
       "      dtype='object')"
      ]
     },
     "execution_count": 3,
     "metadata": {},
     "output_type": "execute_result"
    }
   ],
   "source": [
    "nukes.columns"
   ]
  },
  {
   "cell_type": "code",
   "execution_count": 5,
   "id": "a845de10",
   "metadata": {},
   "outputs": [],
   "source": [
    "# Renaming columns\n",
    "nukes.rename(columns = {\"WEAPON SOURCE COUNTRY\":\"Source Country\",\n",
    "                        \"WEAPON DEPLOYMENT LOCATION\":\"Deployment Location\",\n",
    "                       \"Location.Cordinates.Latitude\": \"Latitude\",\n",
    "                       \"Location.Cordinates.Longitude\":\"Longitude\",\n",
    "                       \"Location.Cordinates.Depth\":\"Depth\",\n",
    "                       \"Data.Source\":\"Source\",\n",
    "                       \"Data.Magnitude.Body\":\"Body Wave Magnitude\",\n",
    "                       \"Data.Magnitude.Surface\":\"Surface Wave Magnitude\",\n",
    "                       \"Data.Yeild.Lower\":\"Explosion Yield L\",\n",
    "                       \"Data.Yeild.Upper\":\"Explosion Yield U\",\n",
    "                       \"Data.Purpose\":\"Detonation Reason\",\n",
    "                       \"Data.Name\":\"Name\",\n",
    "                       \"Data.Type\":\"Detonation Method\",\n",
    "                       \"Date.Day\":\"Day\",\n",
    "                       \"Date.Month\":\"Month\",\n",
    "                       \"Date.Year\":\"Year\"}, inplace=True)"
   ]
  },
  {
   "cell_type": "code",
   "execution_count": 6,
   "id": "47edbc8f",
   "metadata": {},
   "outputs": [
    {
     "data": {
      "text/plain": [
       "Index(['Source Country', 'Deployment Location', 'Source', 'Latitude',\n",
       "       'Longitude', 'Body Wave Magnitude', 'Surface Wave Magnitude', 'Depth',\n",
       "       'Explosion Yield L', 'Explosion Yield U', 'Detonation Reason', 'Name',\n",
       "       'Detonation Method', 'Day', 'Month', 'Year'],\n",
       "      dtype='object')"
      ]
     },
     "execution_count": 6,
     "metadata": {},
     "output_type": "execute_result"
    }
   ],
   "source": [
    "nukes.columns"
   ]
  },
  {
   "cell_type": "code",
   "execution_count": 7,
   "id": "2844ded8",
   "metadata": {},
   "outputs": [
    {
     "data": {
      "text/plain": [
       "Source Country            0\n",
       "Deployment Location       0\n",
       "Source                    0\n",
       "Latitude                  0\n",
       "Longitude                 0\n",
       "Body Wave Magnitude       0\n",
       "Surface Wave Magnitude    0\n",
       "Depth                     0\n",
       "Explosion Yield L         0\n",
       "Explosion Yield U         0\n",
       "Detonation Reason         0\n",
       "Name                      0\n",
       "Detonation Method         0\n",
       "Day                       0\n",
       "Month                     0\n",
       "Year                      0\n",
       "dtype: int64"
      ]
     },
     "execution_count": 7,
     "metadata": {},
     "output_type": "execute_result"
    }
   ],
   "source": [
    "# Checking for null values in dataset\n",
    "nukes.isna().sum()"
   ]
  },
  {
   "cell_type": "code",
   "execution_count": 8,
   "id": "98216cec",
   "metadata": {},
   "outputs": [
    {
     "name": "stdout",
     "output_type": "stream",
     "text": [
      "Missing values by features:\n",
      "Source Country: 0 missing values\n",
      "\n",
      "Deployment Location: 0 missing values\n",
      "\n",
      "Source: 0 missing values\n",
      "\n",
      "Latitude: 0 missing values\n",
      "\n",
      "Longitude: 0 missing values\n",
      "\n",
      "Body Wave Magnitude: 0 missing values\n",
      "\n",
      "Surface Wave Magnitude: 0 missing values\n",
      "\n",
      "Depth: 0 missing values\n",
      "\n",
      "Explosion Yield L: 0 missing values\n",
      "\n",
      "Explosion Yield U: 0 missing values\n",
      "\n",
      "Detonation Reason: 1 missing values\n",
      "\n",
      "Name: 663 missing values\n",
      "\n",
      "Detonation Method: 0 missing values\n",
      "\n",
      "Day: 0 missing values\n",
      "\n",
      "Month: 0 missing values\n",
      "\n",
      "Year: 0 missing values\n",
      "\n"
     ]
    }
   ],
   "source": [
    "# Remove missing value features having NaN, Na, Null\n",
    "print(\"Missing values by features:\")\n",
    "for col in nukes.columns:\n",
    "    num = 0 \n",
    "    num = num + len(nukes[nukes[col] == \"Nan\"])\n",
    "    num = num + len(nukes[nukes[col] == \"Na\"])\n",
    "    num = num + len(nukes[nukes[col] == \"Null\"])\n",
    "    print(f\"{col}: {num} missing values\\n\")"
   ]
  },
  {
   "cell_type": "code",
   "execution_count": 9,
   "id": "d132563f",
   "metadata": {},
   "outputs": [],
   "source": [
    "nukes[\"Name\"] = nukes[\"Name\"].apply(lambda x: \"Unnamed\" if x == \"Nan\" or x == \"Null\" or x == \"Na\" else x)"
   ]
  },
  {
   "cell_type": "code",
   "execution_count": 11,
   "id": "d1cd8d9b",
   "metadata": {},
   "outputs": [
    {
     "name": "stdout",
     "output_type": "stream",
     "text": [
      "     Source Country Deployment Location Source  Latitude  Longitude  \\\n",
      "352            USSR            Mtr Russ    MTM      48.0       46.0   \n",
      "1599           USSR         Semi Kazakh    MTM      50.0       78.0   \n",
      "1789           USSR           Perm Russ    NOA      61.0       58.0   \n",
      "\n",
      "      Body Wave Magnitude  Surface Wave Magnitude  Depth  Explosion Yield L  \\\n",
      "352                   0.0                     0.0    0.0              1.200   \n",
      "1599                  0.0                     0.0    0.0              0.001   \n",
      "1789                  4.5                     0.0    0.0              3.200   \n",
      "\n",
      "      Explosion Yield U Detonation Reason     Name Detonation Method  Day  \\\n",
      "352                 1.2                We  Unnamed             Space   27   \n",
      "1599               20.0                Wr  Unnamed            Tunnel    5   \n",
      "1789                3.2               Pne    Geliy             Shaft   28   \n",
      "\n",
      "      Month  Year  \n",
      "352      10  1961  \n",
      "1599     12  1980  \n",
      "1789      8  1984  \n",
      "\n",
      "\n",
      "Number of Rows Duplicated (3, 16)\n"
     ]
    }
   ],
   "source": [
    "# Check for duplicates\n",
    "duplicates = nukes[nukes.duplicated()]\n",
    "print(duplicates)\n",
    "print(\"\\n\\nNumber of Rows Duplicated\", duplicates.shape)"
   ]
  },
  {
   "cell_type": "code",
   "execution_count": 12,
   "id": "f2625def",
   "metadata": {},
   "outputs": [],
   "source": [
    "# remove duplicates\n",
    "nukes = nukes.drop(nukes.index[[352, 1599, 1789]])"
   ]
  },
  {
   "cell_type": "code",
   "execution_count": 15,
   "id": "989698d2",
   "metadata": {},
   "outputs": [
    {
     "name": "stdout",
     "output_type": "stream",
     "text": [
      "\n",
      "\n",
      "Number of Duplicates: (0, 16)\n"
     ]
    }
   ],
   "source": [
    "# Check again for duplicates\n",
    "new_duplicates = nukes[nukes.duplicated()]\n",
    "print(\"\\n\\nNumber of Duplicates:\", new_duplicates.shape)"
   ]
  },
  {
   "cell_type": "code",
   "execution_count": 16,
   "id": "f0eec9bb",
   "metadata": {},
   "outputs": [
    {
     "name": "stdout",
     "output_type": "stream",
     "text": [
      "No more duplicates as the row dimension is a 0.\n"
     ]
    }
   ],
   "source": [
    "print(\"No more duplicates as the row dimension is a 0.\")"
   ]
  },
  {
   "cell_type": "code",
   "execution_count": 17,
   "id": "db85af1d",
   "metadata": {},
   "outputs": [
    {
     "name": "stdout",
     "output_type": "stream",
     "text": [
      "Source Country: 7 Distinct Values\n",
      "\n",
      "Deployment Location: 79 Distinct Values\n",
      "\n",
      "Source: 13 Distinct Values\n",
      "\n",
      "Latitude: 525 Distinct Values\n",
      "\n",
      "Longitude: 573 Distinct Values\n",
      "\n",
      "Body Wave Magnitude: 43 Distinct Values\n",
      "\n",
      "Surface Wave Magnitude: 26 Distinct Values\n",
      "\n",
      "Depth: 137 Distinct Values\n",
      "\n",
      "Explosion Yield L: 308 Distinct Values\n",
      "\n",
      "Explosion Yield U: 310 Distinct Values\n",
      "\n",
      "Detonation Reason: 28 Distinct Values\n",
      "\n",
      "Name: 1306 Distinct Values\n",
      "\n",
      "Detonation Method: 20 Distinct Values\n",
      "\n",
      "Day: 31 Distinct Values\n",
      "\n",
      "Month: 12 Distinct Values\n",
      "\n",
      "Year: 50 Distinct Values\n",
      "\n"
     ]
    }
   ],
   "source": [
    "# Unique values in each feature\n",
    "for col in nukes.columns:\n",
    "    distincts = len(nukes[col].unique())\n",
    "    print(f\"{col}: {distincts} Distinct Values\\n\") "
   ]
  },
  {
   "cell_type": "markdown",
   "id": "911a3963",
   "metadata": {},
   "source": [
    "# Further analysis of the data"
   ]
  },
  {
   "cell_type": "code",
   "execution_count": 21,
   "id": "d3aaaa84",
   "metadata": {},
   "outputs": [
    {
     "data": {
      "text/html": [
       "<div>\n",
       "<style scoped>\n",
       "    .dataframe tbody tr th:only-of-type {\n",
       "        vertical-align: middle;\n",
       "    }\n",
       "\n",
       "    .dataframe tbody tr th {\n",
       "        vertical-align: top;\n",
       "    }\n",
       "\n",
       "    .dataframe thead th {\n",
       "        text-align: right;\n",
       "    }\n",
       "</style>\n",
       "<table border=\"1\" class=\"dataframe\">\n",
       "  <thead>\n",
       "    <tr style=\"text-align: right;\">\n",
       "      <th></th>\n",
       "      <th>Source Country</th>\n",
       "      <th>Deployment Location</th>\n",
       "      <th>Source</th>\n",
       "      <th>Latitude</th>\n",
       "      <th>Longitude</th>\n",
       "      <th>Body Wave Magnitude</th>\n",
       "      <th>Surface Wave Magnitude</th>\n",
       "      <th>Depth</th>\n",
       "      <th>Explosion Yield L</th>\n",
       "      <th>Explosion Yield U</th>\n",
       "      <th>Detonation Reason</th>\n",
       "      <th>Name</th>\n",
       "      <th>Detonation Method</th>\n",
       "      <th>Day</th>\n",
       "      <th>Month</th>\n",
       "      <th>Year</th>\n",
       "    </tr>\n",
       "  </thead>\n",
       "  <tbody>\n",
       "    <tr>\n",
       "      <th>0</th>\n",
       "      <td>USA</td>\n",
       "      <td>Alamogordo</td>\n",
       "      <td>DOE</td>\n",
       "      <td>32.54</td>\n",
       "      <td>-105.57</td>\n",
       "      <td>0.0</td>\n",
       "      <td>0.0</td>\n",
       "      <td>-0.10</td>\n",
       "      <td>21.0</td>\n",
       "      <td>21.0</td>\n",
       "      <td>Wr</td>\n",
       "      <td>Trinity</td>\n",
       "      <td>Tower</td>\n",
       "      <td>16</td>\n",
       "      <td>7</td>\n",
       "      <td>1945</td>\n",
       "    </tr>\n",
       "    <tr>\n",
       "      <th>1</th>\n",
       "      <td>USA</td>\n",
       "      <td>Hiroshima</td>\n",
       "      <td>DOE</td>\n",
       "      <td>34.23</td>\n",
       "      <td>132.27</td>\n",
       "      <td>0.0</td>\n",
       "      <td>0.0</td>\n",
       "      <td>-0.60</td>\n",
       "      <td>15.0</td>\n",
       "      <td>15.0</td>\n",
       "      <td>Combat</td>\n",
       "      <td>Littleboy</td>\n",
       "      <td>Airdrop</td>\n",
       "      <td>5</td>\n",
       "      <td>8</td>\n",
       "      <td>1945</td>\n",
       "    </tr>\n",
       "    <tr>\n",
       "      <th>2</th>\n",
       "      <td>USA</td>\n",
       "      <td>Nagasaki</td>\n",
       "      <td>DOE</td>\n",
       "      <td>32.45</td>\n",
       "      <td>129.52</td>\n",
       "      <td>0.0</td>\n",
       "      <td>0.0</td>\n",
       "      <td>-0.60</td>\n",
       "      <td>21.0</td>\n",
       "      <td>21.0</td>\n",
       "      <td>Combat</td>\n",
       "      <td>Fatman</td>\n",
       "      <td>Airdrop</td>\n",
       "      <td>9</td>\n",
       "      <td>8</td>\n",
       "      <td>1945</td>\n",
       "    </tr>\n",
       "    <tr>\n",
       "      <th>3</th>\n",
       "      <td>USA</td>\n",
       "      <td>Bikini</td>\n",
       "      <td>DOE</td>\n",
       "      <td>11.35</td>\n",
       "      <td>165.20</td>\n",
       "      <td>0.0</td>\n",
       "      <td>0.0</td>\n",
       "      <td>-0.20</td>\n",
       "      <td>21.0</td>\n",
       "      <td>21.0</td>\n",
       "      <td>We</td>\n",
       "      <td>Able</td>\n",
       "      <td>Airdrop</td>\n",
       "      <td>30</td>\n",
       "      <td>6</td>\n",
       "      <td>1946</td>\n",
       "    </tr>\n",
       "    <tr>\n",
       "      <th>4</th>\n",
       "      <td>USA</td>\n",
       "      <td>Bikini</td>\n",
       "      <td>DOE</td>\n",
       "      <td>11.35</td>\n",
       "      <td>165.20</td>\n",
       "      <td>0.0</td>\n",
       "      <td>0.0</td>\n",
       "      <td>0.03</td>\n",
       "      <td>21.0</td>\n",
       "      <td>21.0</td>\n",
       "      <td>We</td>\n",
       "      <td>Baker</td>\n",
       "      <td>Uw</td>\n",
       "      <td>24</td>\n",
       "      <td>7</td>\n",
       "      <td>1946</td>\n",
       "    </tr>\n",
       "  </tbody>\n",
       "</table>\n",
       "</div>"
      ],
      "text/plain": [
       "  Source Country Deployment Location Source  Latitude  Longitude  \\\n",
       "0            USA          Alamogordo    DOE     32.54    -105.57   \n",
       "1            USA           Hiroshima    DOE     34.23     132.27   \n",
       "2            USA            Nagasaki    DOE     32.45     129.52   \n",
       "3            USA              Bikini    DOE     11.35     165.20   \n",
       "4            USA              Bikini    DOE     11.35     165.20   \n",
       "\n",
       "   Body Wave Magnitude  Surface Wave Magnitude  Depth  Explosion Yield L  \\\n",
       "0                  0.0                     0.0  -0.10               21.0   \n",
       "1                  0.0                     0.0  -0.60               15.0   \n",
       "2                  0.0                     0.0  -0.60               21.0   \n",
       "3                  0.0                     0.0  -0.20               21.0   \n",
       "4                  0.0                     0.0   0.03               21.0   \n",
       "\n",
       "   Explosion Yield U Detonation Reason       Name Detonation Method  Day  \\\n",
       "0               21.0                Wr    Trinity             Tower   16   \n",
       "1               15.0            Combat  Littleboy           Airdrop    5   \n",
       "2               21.0            Combat     Fatman           Airdrop    9   \n",
       "3               21.0                We       Able           Airdrop   30   \n",
       "4               21.0                We      Baker                Uw   24   \n",
       "\n",
       "   Month  Year  \n",
       "0      7  1945  \n",
       "1      8  1945  \n",
       "2      8  1945  \n",
       "3      6  1946  \n",
       "4      7  1946  "
      ]
     },
     "execution_count": 21,
     "metadata": {},
     "output_type": "execute_result"
    }
   ],
   "source": [
    "# Some rows from the dataset\n",
    "nukes.head()"
   ]
  },
  {
   "cell_type": "code",
   "execution_count": 22,
   "id": "7d7c9e31",
   "metadata": {},
   "outputs": [
    {
     "data": {
      "text/html": [
       "<div>\n",
       "<style scoped>\n",
       "    .dataframe tbody tr th:only-of-type {\n",
       "        vertical-align: middle;\n",
       "    }\n",
       "\n",
       "    .dataframe tbody tr th {\n",
       "        vertical-align: top;\n",
       "    }\n",
       "\n",
       "    .dataframe thead th {\n",
       "        text-align: right;\n",
       "    }\n",
       "</style>\n",
       "<table border=\"1\" class=\"dataframe\">\n",
       "  <thead>\n",
       "    <tr style=\"text-align: right;\">\n",
       "      <th></th>\n",
       "      <th>Latitude</th>\n",
       "      <th>Longitude</th>\n",
       "      <th>Body Wave Magnitude</th>\n",
       "      <th>Surface Wave Magnitude</th>\n",
       "      <th>Depth</th>\n",
       "      <th>Explosion Yield L</th>\n",
       "      <th>Explosion Yield U</th>\n",
       "      <th>Day</th>\n",
       "      <th>Month</th>\n",
       "      <th>Year</th>\n",
       "    </tr>\n",
       "  </thead>\n",
       "  <tbody>\n",
       "    <tr>\n",
       "      <th>count</th>\n",
       "      <td>2043.000000</td>\n",
       "      <td>2043.000000</td>\n",
       "      <td>2043.000000</td>\n",
       "      <td>2043.000000</td>\n",
       "      <td>2043.000000</td>\n",
       "      <td>2043.000000</td>\n",
       "      <td>2043.000000</td>\n",
       "      <td>2043.000000</td>\n",
       "      <td>2043.000000</td>\n",
       "      <td>2043.000000</td>\n",
       "    </tr>\n",
       "    <tr>\n",
       "      <th>mean</th>\n",
       "      <td>35.436676</td>\n",
       "      <td>-36.157007</td>\n",
       "      <td>2.146353</td>\n",
       "      <td>0.357220</td>\n",
       "      <td>-0.491550</td>\n",
       "      <td>208.748460</td>\n",
       "      <td>323.894013</td>\n",
       "      <td>16.678904</td>\n",
       "      <td>7.278512</td>\n",
       "      <td>1970.890357</td>\n",
       "    </tr>\n",
       "    <tr>\n",
       "      <th>std</th>\n",
       "      <td>23.359139</td>\n",
       "      <td>100.833954</td>\n",
       "      <td>2.626006</td>\n",
       "      <td>1.204375</td>\n",
       "      <td>10.989119</td>\n",
       "      <td>1643.149463</td>\n",
       "      <td>2056.676627</td>\n",
       "      <td>8.796017</td>\n",
       "      <td>3.132288</td>\n",
       "      <td>10.372056</td>\n",
       "    </tr>\n",
       "    <tr>\n",
       "      <th>min</th>\n",
       "      <td>-49.500000</td>\n",
       "      <td>-169.320000</td>\n",
       "      <td>0.000000</td>\n",
       "      <td>0.000000</td>\n",
       "      <td>-400.000000</td>\n",
       "      <td>0.000000</td>\n",
       "      <td>0.000000</td>\n",
       "      <td>1.000000</td>\n",
       "      <td>1.000000</td>\n",
       "      <td>1945.000000</td>\n",
       "    </tr>\n",
       "    <tr>\n",
       "      <th>25%</th>\n",
       "      <td>37.000000</td>\n",
       "      <td>-116.052500</td>\n",
       "      <td>0.000000</td>\n",
       "      <td>0.000000</td>\n",
       "      <td>0.000000</td>\n",
       "      <td>0.000000</td>\n",
       "      <td>19.000000</td>\n",
       "      <td>9.000000</td>\n",
       "      <td>5.000000</td>\n",
       "      <td>1962.000000</td>\n",
       "    </tr>\n",
       "    <tr>\n",
       "      <th>50%</th>\n",
       "      <td>37.100000</td>\n",
       "      <td>-116.000000</td>\n",
       "      <td>0.000000</td>\n",
       "      <td>0.000000</td>\n",
       "      <td>0.000000</td>\n",
       "      <td>0.001000</td>\n",
       "      <td>20.000000</td>\n",
       "      <td>17.000000</td>\n",
       "      <td>8.000000</td>\n",
       "      <td>1970.000000</td>\n",
       "    </tr>\n",
       "    <tr>\n",
       "      <th>75%</th>\n",
       "      <td>49.870000</td>\n",
       "      <td>78.000000</td>\n",
       "      <td>5.100000</td>\n",
       "      <td>0.000000</td>\n",
       "      <td>0.000000</td>\n",
       "      <td>20.000000</td>\n",
       "      <td>150.000000</td>\n",
       "      <td>24.500000</td>\n",
       "      <td>10.000000</td>\n",
       "      <td>1979.000000</td>\n",
       "    </tr>\n",
       "    <tr>\n",
       "      <th>max</th>\n",
       "      <td>75.100000</td>\n",
       "      <td>179.220000</td>\n",
       "      <td>7.400000</td>\n",
       "      <td>6.000000</td>\n",
       "      <td>1.451000</td>\n",
       "      <td>50000.000000</td>\n",
       "      <td>50000.000000</td>\n",
       "      <td>31.000000</td>\n",
       "      <td>12.000000</td>\n",
       "      <td>1998.000000</td>\n",
       "    </tr>\n",
       "  </tbody>\n",
       "</table>\n",
       "</div>"
      ],
      "text/plain": [
       "          Latitude    Longitude  Body Wave Magnitude  Surface Wave Magnitude  \\\n",
       "count  2043.000000  2043.000000          2043.000000             2043.000000   \n",
       "mean     35.436676   -36.157007             2.146353                0.357220   \n",
       "std      23.359139   100.833954             2.626006                1.204375   \n",
       "min     -49.500000  -169.320000             0.000000                0.000000   \n",
       "25%      37.000000  -116.052500             0.000000                0.000000   \n",
       "50%      37.100000  -116.000000             0.000000                0.000000   \n",
       "75%      49.870000    78.000000             5.100000                0.000000   \n",
       "max      75.100000   179.220000             7.400000                6.000000   \n",
       "\n",
       "             Depth  Explosion Yield L  Explosion Yield U          Day  \\\n",
       "count  2043.000000        2043.000000        2043.000000  2043.000000   \n",
       "mean     -0.491550         208.748460         323.894013    16.678904   \n",
       "std      10.989119        1643.149463        2056.676627     8.796017   \n",
       "min    -400.000000           0.000000           0.000000     1.000000   \n",
       "25%       0.000000           0.000000          19.000000     9.000000   \n",
       "50%       0.000000           0.001000          20.000000    17.000000   \n",
       "75%       0.000000          20.000000         150.000000    24.500000   \n",
       "max       1.451000       50000.000000       50000.000000    31.000000   \n",
       "\n",
       "             Month         Year  \n",
       "count  2043.000000  2043.000000  \n",
       "mean      7.278512  1970.890357  \n",
       "std       3.132288    10.372056  \n",
       "min       1.000000  1945.000000  \n",
       "25%       5.000000  1962.000000  \n",
       "50%       8.000000  1970.000000  \n",
       "75%      10.000000  1979.000000  \n",
       "max      12.000000  1998.000000  "
      ]
     },
     "execution_count": 22,
     "metadata": {},
     "output_type": "execute_result"
    }
   ],
   "source": [
    "# Stastistical data\n",
    "nukes.describe()"
   ]
  },
  {
   "cell_type": "code",
   "execution_count": 23,
   "id": "8b43dd9a",
   "metadata": {},
   "outputs": [
    {
     "name": "stdout",
     "output_type": "stream",
     "text": [
      "Source Country             object\n",
      "Deployment Location        object\n",
      "Source                     object\n",
      "Latitude                  float64\n",
      "Longitude                 float64\n",
      "Body Wave Magnitude       float64\n",
      "Surface Wave Magnitude    float64\n",
      "Depth                     float64\n",
      "Explosion Yield L         float64\n",
      "Explosion Yield U         float64\n",
      "Detonation Reason          object\n",
      "Name                       object\n",
      "Detonation Method          object\n",
      "Day                         int64\n",
      "Month                       int64\n",
      "Year                        int64\n",
      "dtype: object\n"
     ]
    }
   ],
   "source": [
    "# Datatype of each feature\n",
    "print(nukes.dtypes)"
   ]
  },
  {
   "cell_type": "code",
   "execution_count": 24,
   "id": "24275496",
   "metadata": {},
   "outputs": [],
   "source": [
    "# In data we have lower bound and upper bound of yield\n",
    "# Feature engineering : Take average explosion yield\n",
    "nukes[\"Explosion Yield Average\"] = (nukes[\"Explosion Yield L\"] + nukes[\"Explosion Yield U\"]) / 2"
   ]
  },
  {
   "cell_type": "code",
   "execution_count": 26,
   "id": "42e412fa",
   "metadata": {},
   "outputs": [
    {
     "data": {
      "text/plain": [
       "0    21.0\n",
       "1    15.0\n",
       "2    21.0\n",
       "3    21.0\n",
       "4    21.0\n",
       "Name: Explosion Yield Average, dtype: float64"
      ]
     },
     "execution_count": 26,
     "metadata": {},
     "output_type": "execute_result"
    }
   ],
   "source": [
    "nukes[\"Explosion Yield Average\"].head()"
   ]
  },
  {
   "cell_type": "code",
   "execution_count": 27,
   "id": "0219dd63",
   "metadata": {},
   "outputs": [
    {
     "data": {
      "text/html": [
       "<div>\n",
       "<style scoped>\n",
       "    .dataframe tbody tr th:only-of-type {\n",
       "        vertical-align: middle;\n",
       "    }\n",
       "\n",
       "    .dataframe tbody tr th {\n",
       "        vertical-align: top;\n",
       "    }\n",
       "\n",
       "    .dataframe thead th {\n",
       "        text-align: right;\n",
       "    }\n",
       "</style>\n",
       "<table border=\"1\" class=\"dataframe\">\n",
       "  <thead>\n",
       "    <tr style=\"text-align: right;\">\n",
       "      <th></th>\n",
       "      <th>Explosion Yield L</th>\n",
       "      <th>Explosion Yield U</th>\n",
       "      <th>Explosion Yield Average</th>\n",
       "    </tr>\n",
       "  </thead>\n",
       "  <tbody>\n",
       "    <tr>\n",
       "      <th>0</th>\n",
       "      <td>21.0</td>\n",
       "      <td>21.0</td>\n",
       "      <td>21.0</td>\n",
       "    </tr>\n",
       "    <tr>\n",
       "      <th>1</th>\n",
       "      <td>15.0</td>\n",
       "      <td>15.0</td>\n",
       "      <td>15.0</td>\n",
       "    </tr>\n",
       "    <tr>\n",
       "      <th>2</th>\n",
       "      <td>21.0</td>\n",
       "      <td>21.0</td>\n",
       "      <td>21.0</td>\n",
       "    </tr>\n",
       "    <tr>\n",
       "      <th>3</th>\n",
       "      <td>21.0</td>\n",
       "      <td>21.0</td>\n",
       "      <td>21.0</td>\n",
       "    </tr>\n",
       "    <tr>\n",
       "      <th>4</th>\n",
       "      <td>21.0</td>\n",
       "      <td>21.0</td>\n",
       "      <td>21.0</td>\n",
       "    </tr>\n",
       "  </tbody>\n",
       "</table>\n",
       "</div>"
      ],
      "text/plain": [
       "   Explosion Yield L  Explosion Yield U  Explosion Yield Average\n",
       "0               21.0               21.0                     21.0\n",
       "1               15.0               15.0                     15.0\n",
       "2               21.0               21.0                     21.0\n",
       "3               21.0               21.0                     21.0\n",
       "4               21.0               21.0                     21.0"
      ]
     },
     "execution_count": 27,
     "metadata": {},
     "output_type": "execute_result"
    }
   ],
   "source": [
    "# Check whether new feature would be useeful or not\n",
    "# Check to get the exact number of instances where the upper yield is not equal to the lower yield\n",
    "wanted_cols = [\"Explosion Yield U\", \"Explosion Yield L\", \"Explosion Yield Average\"]\n",
    "unwanted_cols = [col for col in nukes.columns if col not in wanted_cols]\n",
    "yields = nukes.drop(unwanted_cols, axis=\"columns\")\n",
    "yields.head()"
   ]
  },
  {
   "cell_type": "code",
   "execution_count": 28,
   "id": "d2c6f38e",
   "metadata": {},
   "outputs": [
    {
     "data": {
      "text/html": [
       "<div>\n",
       "<style scoped>\n",
       "    .dataframe tbody tr th:only-of-type {\n",
       "        vertical-align: middle;\n",
       "    }\n",
       "\n",
       "    .dataframe tbody tr th {\n",
       "        vertical-align: top;\n",
       "    }\n",
       "\n",
       "    .dataframe thead th {\n",
       "        text-align: right;\n",
       "    }\n",
       "</style>\n",
       "<table border=\"1\" class=\"dataframe\">\n",
       "  <thead>\n",
       "    <tr style=\"text-align: right;\">\n",
       "      <th></th>\n",
       "      <th>Explosion Yield L</th>\n",
       "      <th>Explosion Yield U</th>\n",
       "      <th>Explosion Yield Average</th>\n",
       "    </tr>\n",
       "  </thead>\n",
       "  <tbody>\n",
       "    <tr>\n",
       "      <th>2041</th>\n",
       "      <td>3.0</td>\n",
       "      <td>12.0</td>\n",
       "      <td>7.5</td>\n",
       "    </tr>\n",
       "    <tr>\n",
       "      <th>2042</th>\n",
       "      <td>0.0</td>\n",
       "      <td>20.0</td>\n",
       "      <td>10.0</td>\n",
       "    </tr>\n",
       "    <tr>\n",
       "      <th>2043</th>\n",
       "      <td>0.0</td>\n",
       "      <td>1.0</td>\n",
       "      <td>0.5</td>\n",
       "    </tr>\n",
       "    <tr>\n",
       "      <th>2044</th>\n",
       "      <td>0.0</td>\n",
       "      <td>35.0</td>\n",
       "      <td>17.5</td>\n",
       "    </tr>\n",
       "    <tr>\n",
       "      <th>2045</th>\n",
       "      <td>0.0</td>\n",
       "      <td>18.0</td>\n",
       "      <td>9.0</td>\n",
       "    </tr>\n",
       "  </tbody>\n",
       "</table>\n",
       "</div>"
      ],
      "text/plain": [
       "      Explosion Yield L  Explosion Yield U  Explosion Yield Average\n",
       "2041                3.0               12.0                      7.5\n",
       "2042                0.0               20.0                     10.0\n",
       "2043                0.0                1.0                      0.5\n",
       "2044                0.0               35.0                     17.5\n",
       "2045                0.0               18.0                      9.0"
      ]
     },
     "execution_count": 28,
     "metadata": {},
     "output_type": "execute_result"
    }
   ],
   "source": [
    "yields.tail()"
   ]
  },
  {
   "cell_type": "code",
   "execution_count": 29,
   "id": "d339be03",
   "metadata": {},
   "outputs": [],
   "source": [
    "# Here, the tail columns does not have same upper and lower yield. Hence, new feature is useful"
   ]
  },
  {
   "cell_type": "markdown",
   "id": "2790ecca",
   "metadata": {},
   "source": [
    "# Plot Relationships"
   ]
  },
  {
   "cell_type": "code",
   "execution_count": 35,
   "id": "5719630f",
   "metadata": {},
   "outputs": [
    {
     "data": {
      "text/plain": [
       "Text(0, 0.5, 'Average Explosion Yield (Killotons of TNT)')"
      ]
     },
     "execution_count": 35,
     "metadata": {},
     "output_type": "execute_result"
    },
    {
     "data": {
      "image/png": "[encoded data removed]",
      "text/plain": [
       "<Figure size 700x700 with 1 Axes>"
      ]
     },
     "metadata": {},
     "output_type": "display_data"
    }
   ],
   "source": [
    "# Some explosion yields (first 10)\n",
    "plt.figure(figsize=(7,7))\n",
    "sns.scatterplot(x = nukes[\"Name\"][:10], y = nukes[\"Explosion Yield Average\"][:10])\n",
    "plt.title(\"Explosion Yields of different Nuclear Weapons\")\n",
    "plt.xlabel(\"Names\")\n",
    "plt.ylabel(\"Average Explosion Yield (Killotons of TNT)\")\n"
   ]
  },
  {
   "cell_type": "code",
   "execution_count": 46,
   "id": "911b4a93",
   "metadata": {},
   "outputs": [
    {
     "data": {
      "text/plain": [
       "Text(0.5, 0, 'Names')"
      ]
     },
     "execution_count": 46,
     "metadata": {},
     "output_type": "execute_result"
    },
    {
     "data": {
      "image/png": "[encoded data removed]",
      "text/plain": [
       "<Figure size 700x700 with 1 Axes>"
      ]
     },
     "metadata": {},
     "output_type": "display_data"
    }
   ],
   "source": [
    "# Nukes with the biggest explosions (i.e. yiels)\n",
    "nukes_by_top_explosions = nukes.sort_values(by=\"Explosion Yield Average\", ascending=False)\n",
    "\n",
    "plt.figure(figsize=(7,7))\n",
    "sns.barplot(x=nukes_by_top_explosions[\"Name\"][:10], y=nukes_by_top_explosions[\"Explosion Yield Average\"][:10])\n",
    "plt.title(\"Most Explosive Nukes (Top 10)\")\n",
    "plt.ylabel(\"Average Explosion Yield (Killotons of TNT)\")\n",
    "plt.xlabel(\"Names\")\n",
    "\n",
    "# plt.show()"
   ]
  },
  {
   "cell_type": "code",
   "execution_count": 47,
   "id": "bf09e8c1",
   "metadata": {},
   "outputs": [
    {
     "data": {
      "text/plain": [
       "Text(0.5, 0, 'Names')"
      ]
     },
     "execution_count": 47,
     "metadata": {},
     "output_type": "execute_result"
    },
    {
     "data": {
      "image/png": "[encoded data removed]",
      "text/plain": [
       "<Figure size 1500x1500 with 1 Axes>"
      ]
     },
     "metadata": {},
     "output_type": "display_data"
    }
   ],
   "source": [
    "# Nukes with the smallest explosions (i.e. yiels)\n",
    "nukes_by_least_explosions = nukes.sort_values(by=\"Explosion Yield Average\", ascending=True)\n",
    "zero_explosions = nukes_by_least_explosions[nukes_by_least_explosions[\"Explosion Yield Average\"]==0]\n",
    "nukes_by_least_explosions = nukes_by_least_explosions.drop(zero_explosions.index)\n",
    "\n",
    "plt.figure(figsize=(15,15))\n",
    "sns.barplot(x=nukes_by_least_explosions[\"Name\"][:50], y=nukes_by_least_explosions[\"Explosion Yield Average\"][:50])\n",
    "plt.title(\"Least Explosive Nukes\")\n",
    "plt.ylabel(\"Average Explosion Yield (Killotons of TNT)\")\n",
    "plt.xlabel(\"Names\")"
   ]
  },
  {
   "cell_type": "code",
   "execution_count": 48,
   "id": "cf27435a",
   "metadata": {},
   "outputs": [
    {
     "data": {
      "text/plain": [
       "296     0.0002\n",
       "1555    0.0005\n",
       "68      0.0005\n",
       "1010    0.0005\n",
       "186     0.0005\n",
       "1444    0.0005\n",
       "1447    0.0005\n",
       "1133    0.0005\n",
       "884     0.0005\n",
       "1227    0.0005\n",
       "544     0.0005\n",
       "1207    0.0005\n",
       "141     0.0005\n",
       "273     0.0005\n",
       "1504    0.0005\n",
       "1507    0.0005\n",
       "362     0.0005\n",
       "1610    0.0005\n",
       "1619    0.0005\n",
       "1512    0.0005\n",
       "524     0.0005\n",
       "1640    0.0005\n",
       "193     0.0005\n",
       "1706    0.0005\n",
       "528     0.0005\n",
       "290     0.0006\n",
       "287     0.0007\n",
       "266     0.0012\n",
       "244     0.0015\n",
       "284     0.0017\n",
       "247     0.0020\n",
       "324     0.0040\n",
       "257     0.0055\n",
       "545     0.0070\n",
       "292     0.0078\n",
       "1414    0.0100\n",
       "248     0.0130\n",
       "242     0.0150\n",
       "234     0.0200\n",
       "283     0.0210\n",
       "269     0.0240\n",
       "546     0.0280\n",
       "64      0.0300\n",
       "326     0.0300\n",
       "529     0.0310\n",
       "268     0.0370\n",
       "241     0.0380\n",
       "286     0.0500\n",
       "20      0.0500\n",
       "291     0.0550\n",
       "Name: Explosion Yield Average, dtype: float64"
      ]
     },
     "execution_count": 48,
     "metadata": {},
     "output_type": "execute_result"
    }
   ],
   "source": [
    "nukes_by_least_explosions[\"Explosion Yield Average\"][:50]"
   ]
  },
  {
   "cell_type": "markdown",
   "id": "713d89c9",
   "metadata": {},
   "source": [
    "# which contry contributed the most to this dataset"
   ]
  },
  {
   "cell_type": "code",
   "execution_count": 49,
   "id": "b7bfab63",
   "metadata": {},
   "outputs": [
    {
     "name": "stdout",
     "output_type": "stream",
     "text": [
      "['DOE' 'MTM' 'UGS' 'ISC' 'DIS' 'SPA' 'ZAR' 'WTN' 'HFS' 'MTU' 'NRD' 'BKY'\n",
      " 'NOA']\n"
     ]
    }
   ],
   "source": [
    "print(nukes[\"Source\"].unique())"
   ]
  },
  {
   "cell_type": "code",
   "execution_count": 50,
   "id": "aa4a6a1e",
   "metadata": {},
   "outputs": [],
   "source": [
    "# Country of origin\n",
    "countries = {\"DOE\":\"United States\", \"MTM\":\"Russia\", \"ISC\":\"UK\", \"UGS\":\"United States\", \"DIS\":\"Netherlands\", \"SPA\":\"France\", \n",
    "            \"ZAR\":\"Sweden\", \"WTN\":\"New Zealand\", \"HFS\":\"Sweden\", \"MTU\":\"United States\", \"NRD\":\"United States\", \"BKY\":\"United States\", \n",
    "             \"NOA\":\"Norway\"}"
   ]
  },
  {
   "cell_type": "code",
   "execution_count": 52,
   "id": "3cd261f5",
   "metadata": {},
   "outputs": [],
   "source": [
    "# New country sourse feature:\n",
    "nukes[\"Country Source\"] = nukes[\"Source\"].apply(lambda x: countries[x] if x in countries else x)"
   ]
  },
  {
   "cell_type": "code",
   "execution_count": 53,
   "id": "ff9f7d3e",
   "metadata": {},
   "outputs": [
    {
     "data": {
      "text/html": [
       "<div>\n",
       "<style scoped>\n",
       "    .dataframe tbody tr th:only-of-type {\n",
       "        vertical-align: middle;\n",
       "    }\n",
       "\n",
       "    .dataframe tbody tr th {\n",
       "        vertical-align: top;\n",
       "    }\n",
       "\n",
       "    .dataframe thead th {\n",
       "        text-align: right;\n",
       "    }\n",
       "</style>\n",
       "<table border=\"1\" class=\"dataframe\">\n",
       "  <thead>\n",
       "    <tr style=\"text-align: right;\">\n",
       "      <th></th>\n",
       "      <th>Source Country</th>\n",
       "      <th>Deployment Location</th>\n",
       "      <th>Source</th>\n",
       "      <th>Latitude</th>\n",
       "      <th>Longitude</th>\n",
       "      <th>Body Wave Magnitude</th>\n",
       "      <th>Surface Wave Magnitude</th>\n",
       "      <th>Depth</th>\n",
       "      <th>Explosion Yield L</th>\n",
       "      <th>Explosion Yield U</th>\n",
       "      <th>Detonation Reason</th>\n",
       "      <th>Name</th>\n",
       "      <th>Detonation Method</th>\n",
       "      <th>Day</th>\n",
       "      <th>Month</th>\n",
       "      <th>Year</th>\n",
       "      <th>Explosion Yield Average</th>\n",
       "      <th>Country Source</th>\n",
       "    </tr>\n",
       "  </thead>\n",
       "  <tbody>\n",
       "    <tr>\n",
       "      <th>0</th>\n",
       "      <td>USA</td>\n",
       "      <td>Alamogordo</td>\n",
       "      <td>DOE</td>\n",
       "      <td>32.54</td>\n",
       "      <td>-105.57</td>\n",
       "      <td>0.0</td>\n",
       "      <td>0.0</td>\n",
       "      <td>-0.10</td>\n",
       "      <td>21.0</td>\n",
       "      <td>21.0</td>\n",
       "      <td>Wr</td>\n",
       "      <td>Trinity</td>\n",
       "      <td>Tower</td>\n",
       "      <td>16</td>\n",
       "      <td>7</td>\n",
       "      <td>1945</td>\n",
       "      <td>21.0</td>\n",
       "      <td>United States</td>\n",
       "    </tr>\n",
       "    <tr>\n",
       "      <th>1</th>\n",
       "      <td>USA</td>\n",
       "      <td>Hiroshima</td>\n",
       "      <td>DOE</td>\n",
       "      <td>34.23</td>\n",
       "      <td>132.27</td>\n",
       "      <td>0.0</td>\n",
       "      <td>0.0</td>\n",
       "      <td>-0.60</td>\n",
       "      <td>15.0</td>\n",
       "      <td>15.0</td>\n",
       "      <td>Combat</td>\n",
       "      <td>Littleboy</td>\n",
       "      <td>Airdrop</td>\n",
       "      <td>5</td>\n",
       "      <td>8</td>\n",
       "      <td>1945</td>\n",
       "      <td>15.0</td>\n",
       "      <td>United States</td>\n",
       "    </tr>\n",
       "    <tr>\n",
       "      <th>2</th>\n",
       "      <td>USA</td>\n",
       "      <td>Nagasaki</td>\n",
       "      <td>DOE</td>\n",
       "      <td>32.45</td>\n",
       "      <td>129.52</td>\n",
       "      <td>0.0</td>\n",
       "      <td>0.0</td>\n",
       "      <td>-0.60</td>\n",
       "      <td>21.0</td>\n",
       "      <td>21.0</td>\n",
       "      <td>Combat</td>\n",
       "      <td>Fatman</td>\n",
       "      <td>Airdrop</td>\n",
       "      <td>9</td>\n",
       "      <td>8</td>\n",
       "      <td>1945</td>\n",
       "      <td>21.0</td>\n",
       "      <td>United States</td>\n",
       "    </tr>\n",
       "    <tr>\n",
       "      <th>3</th>\n",
       "      <td>USA</td>\n",
       "      <td>Bikini</td>\n",
       "      <td>DOE</td>\n",
       "      <td>11.35</td>\n",
       "      <td>165.20</td>\n",
       "      <td>0.0</td>\n",
       "      <td>0.0</td>\n",
       "      <td>-0.20</td>\n",
       "      <td>21.0</td>\n",
       "      <td>21.0</td>\n",
       "      <td>We</td>\n",
       "      <td>Able</td>\n",
       "      <td>Airdrop</td>\n",
       "      <td>30</td>\n",
       "      <td>6</td>\n",
       "      <td>1946</td>\n",
       "      <td>21.0</td>\n",
       "      <td>United States</td>\n",
       "    </tr>\n",
       "    <tr>\n",
       "      <th>4</th>\n",
       "      <td>USA</td>\n",
       "      <td>Bikini</td>\n",
       "      <td>DOE</td>\n",
       "      <td>11.35</td>\n",
       "      <td>165.20</td>\n",
       "      <td>0.0</td>\n",
       "      <td>0.0</td>\n",
       "      <td>0.03</td>\n",
       "      <td>21.0</td>\n",
       "      <td>21.0</td>\n",
       "      <td>We</td>\n",
       "      <td>Baker</td>\n",
       "      <td>Uw</td>\n",
       "      <td>24</td>\n",
       "      <td>7</td>\n",
       "      <td>1946</td>\n",
       "      <td>21.0</td>\n",
       "      <td>United States</td>\n",
       "    </tr>\n",
       "  </tbody>\n",
       "</table>\n",
       "</div>"
      ],
      "text/plain": [
       "  Source Country Deployment Location Source  Latitude  Longitude  \\\n",
       "0            USA          Alamogordo    DOE     32.54    -105.57   \n",
       "1            USA           Hiroshima    DOE     34.23     132.27   \n",
       "2            USA            Nagasaki    DOE     32.45     129.52   \n",
       "3            USA              Bikini    DOE     11.35     165.20   \n",
       "4            USA              Bikini    DOE     11.35     165.20   \n",
       "\n",
       "   Body Wave Magnitude  Surface Wave Magnitude  Depth  Explosion Yield L  \\\n",
       "0                  0.0                     0.0  -0.10               21.0   \n",
       "1                  0.0                     0.0  -0.60               15.0   \n",
       "2                  0.0                     0.0  -0.60               21.0   \n",
       "3                  0.0                     0.0  -0.20               21.0   \n",
       "4                  0.0                     0.0   0.03               21.0   \n",
       "\n",
       "   Explosion Yield U Detonation Reason       Name Detonation Method  Day  \\\n",
       "0               21.0                Wr    Trinity             Tower   16   \n",
       "1               15.0            Combat  Littleboy           Airdrop    5   \n",
       "2               21.0            Combat     Fatman           Airdrop    9   \n",
       "3               21.0                We       Able           Airdrop   30   \n",
       "4               21.0                We      Baker                Uw   24   \n",
       "\n",
       "   Month  Year  Explosion Yield Average Country Source  \n",
       "0      7  1945                     21.0  United States  \n",
       "1      8  1945                     15.0  United States  \n",
       "2      8  1945                     21.0  United States  \n",
       "3      6  1946                     21.0  United States  \n",
       "4      7  1946                     21.0  United States  "
      ]
     },
     "execution_count": 53,
     "metadata": {},
     "output_type": "execute_result"
    }
   ],
   "source": [
    "nukes.head()"
   ]
  },
  {
   "cell_type": "code",
   "execution_count": 54,
   "id": "1b1aa9e2",
   "metadata": {},
   "outputs": [
    {
     "data": {
      "text/html": [
       "<div>\n",
       "<style scoped>\n",
       "    .dataframe tbody tr th:only-of-type {\n",
       "        vertical-align: middle;\n",
       "    }\n",
       "\n",
       "    .dataframe tbody tr th {\n",
       "        vertical-align: top;\n",
       "    }\n",
       "\n",
       "    .dataframe thead th {\n",
       "        text-align: right;\n",
       "    }\n",
       "</style>\n",
       "<table border=\"1\" class=\"dataframe\">\n",
       "  <thead>\n",
       "    <tr style=\"text-align: right;\">\n",
       "      <th></th>\n",
       "      <th>Source Country</th>\n",
       "      <th>Deployment Location</th>\n",
       "      <th>Source</th>\n",
       "      <th>Latitude</th>\n",
       "      <th>Longitude</th>\n",
       "      <th>Body Wave Magnitude</th>\n",
       "      <th>Surface Wave Magnitude</th>\n",
       "      <th>Depth</th>\n",
       "      <th>Explosion Yield L</th>\n",
       "      <th>Explosion Yield U</th>\n",
       "      <th>Detonation Reason</th>\n",
       "      <th>Name</th>\n",
       "      <th>Detonation Method</th>\n",
       "      <th>Day</th>\n",
       "      <th>Month</th>\n",
       "      <th>Year</th>\n",
       "      <th>Explosion Yield Average</th>\n",
       "      <th>Country Source</th>\n",
       "    </tr>\n",
       "  </thead>\n",
       "  <tbody>\n",
       "    <tr>\n",
       "      <th>2041</th>\n",
       "      <td>CHINA</td>\n",
       "      <td>Lop Nor</td>\n",
       "      <td>HFS</td>\n",
       "      <td>41.69</td>\n",
       "      <td>88.35</td>\n",
       "      <td>5.3</td>\n",
       "      <td>0.0</td>\n",
       "      <td>0.0</td>\n",
       "      <td>3.0</td>\n",
       "      <td>12.0</td>\n",
       "      <td>Wr</td>\n",
       "      <td>Unnamed</td>\n",
       "      <td>Ug</td>\n",
       "      <td>29</td>\n",
       "      <td>7</td>\n",
       "      <td>1996</td>\n",
       "      <td>7.5</td>\n",
       "      <td>Sweden</td>\n",
       "    </tr>\n",
       "    <tr>\n",
       "      <th>2042</th>\n",
       "      <td>INDIA</td>\n",
       "      <td>Pokhran</td>\n",
       "      <td>HFS</td>\n",
       "      <td>27.07</td>\n",
       "      <td>71.70</td>\n",
       "      <td>5.3</td>\n",
       "      <td>0.0</td>\n",
       "      <td>0.0</td>\n",
       "      <td>0.0</td>\n",
       "      <td>20.0</td>\n",
       "      <td>Wr</td>\n",
       "      <td>Shakti 1-3</td>\n",
       "      <td>Ug</td>\n",
       "      <td>11</td>\n",
       "      <td>5</td>\n",
       "      <td>1998</td>\n",
       "      <td>10.0</td>\n",
       "      <td>Sweden</td>\n",
       "    </tr>\n",
       "    <tr>\n",
       "      <th>2043</th>\n",
       "      <td>INDIA</td>\n",
       "      <td>Pokhran</td>\n",
       "      <td>NRD</td>\n",
       "      <td>27.07</td>\n",
       "      <td>71.70</td>\n",
       "      <td>0.0</td>\n",
       "      <td>0.0</td>\n",
       "      <td>0.0</td>\n",
       "      <td>0.0</td>\n",
       "      <td>1.0</td>\n",
       "      <td>Wr</td>\n",
       "      <td>Unnamed</td>\n",
       "      <td>Ug</td>\n",
       "      <td>13</td>\n",
       "      <td>5</td>\n",
       "      <td>1998</td>\n",
       "      <td>0.5</td>\n",
       "      <td>United States</td>\n",
       "    </tr>\n",
       "    <tr>\n",
       "      <th>2044</th>\n",
       "      <td>PAKIST</td>\n",
       "      <td>Chagai</td>\n",
       "      <td>HFS</td>\n",
       "      <td>28.90</td>\n",
       "      <td>64.89</td>\n",
       "      <td>0.0</td>\n",
       "      <td>0.0</td>\n",
       "      <td>0.0</td>\n",
       "      <td>0.0</td>\n",
       "      <td>35.0</td>\n",
       "      <td>Wr</td>\n",
       "      <td>Unnamed</td>\n",
       "      <td>Ug</td>\n",
       "      <td>28</td>\n",
       "      <td>5</td>\n",
       "      <td>1998</td>\n",
       "      <td>17.5</td>\n",
       "      <td>Sweden</td>\n",
       "    </tr>\n",
       "    <tr>\n",
       "      <th>2045</th>\n",
       "      <td>PAKIST</td>\n",
       "      <td>Kharan</td>\n",
       "      <td>HFS</td>\n",
       "      <td>28.49</td>\n",
       "      <td>63.78</td>\n",
       "      <td>5.0</td>\n",
       "      <td>0.0</td>\n",
       "      <td>0.0</td>\n",
       "      <td>0.0</td>\n",
       "      <td>18.0</td>\n",
       "      <td>Wr</td>\n",
       "      <td>Unnamed</td>\n",
       "      <td>Ug</td>\n",
       "      <td>30</td>\n",
       "      <td>5</td>\n",
       "      <td>1998</td>\n",
       "      <td>9.0</td>\n",
       "      <td>Sweden</td>\n",
       "    </tr>\n",
       "  </tbody>\n",
       "</table>\n",
       "</div>"
      ],
      "text/plain": [
       "     Source Country Deployment Location Source  Latitude  Longitude  \\\n",
       "2041          CHINA             Lop Nor    HFS     41.69      88.35   \n",
       "2042          INDIA             Pokhran    HFS     27.07      71.70   \n",
       "2043          INDIA             Pokhran    NRD     27.07      71.70   \n",
       "2044         PAKIST              Chagai    HFS     28.90      64.89   \n",
       "2045         PAKIST              Kharan    HFS     28.49      63.78   \n",
       "\n",
       "      Body Wave Magnitude  Surface Wave Magnitude  Depth  Explosion Yield L  \\\n",
       "2041                  5.3                     0.0    0.0                3.0   \n",
       "2042                  5.3                     0.0    0.0                0.0   \n",
       "2043                  0.0                     0.0    0.0                0.0   \n",
       "2044                  0.0                     0.0    0.0                0.0   \n",
       "2045                  5.0                     0.0    0.0                0.0   \n",
       "\n",
       "      Explosion Yield U Detonation Reason        Name Detonation Method  Day  \\\n",
       "2041               12.0                Wr     Unnamed                Ug   29   \n",
       "2042               20.0                Wr  Shakti 1-3                Ug   11   \n",
       "2043                1.0                Wr     Unnamed                Ug   13   \n",
       "2044               35.0                Wr     Unnamed                Ug   28   \n",
       "2045               18.0                Wr     Unnamed                Ug   30   \n",
       "\n",
       "      Month  Year  Explosion Yield Average Country Source  \n",
       "2041      7  1996                      7.5         Sweden  \n",
       "2042      5  1998                     10.0         Sweden  \n",
       "2043      5  1998                      0.5  United States  \n",
       "2044      5  1998                     17.5         Sweden  \n",
       "2045      5  1998                      9.0         Sweden  "
      ]
     },
     "execution_count": 54,
     "metadata": {},
     "output_type": "execute_result"
    }
   ],
   "source": [
    "nukes.tail()"
   ]
  },
  {
   "cell_type": "code",
   "execution_count": 55,
   "id": "663e744a",
   "metadata": {},
   "outputs": [
    {
     "name": "stdout",
     "output_type": "stream",
     "text": [
      "Number of Countries:  8\n"
     ]
    }
   ],
   "source": [
    "# The number of different countries in the dataset\n",
    "print(\"Number of Countries: \", len(nukes[\"Country Source\"].unique()))"
   ]
  },
  {
   "cell_type": "code",
   "execution_count": 56,
   "id": "24ea0303",
   "metadata": {},
   "outputs": [],
   "source": [
    "# Initialise array to hold the amounts\n",
    "i = 0\n",
    "country_sums = [0,0,0,0,0,0,0,0]\n",
    "\n",
    "# Loops through each country and adds the amount to the array\n",
    "for country in nukes[\"Country Source\"].unique():\n",
    "    num = len(nukes[nukes[\"Country Source\"] == country])\n",
    "    country_sums[i] = num\n",
    "    i+=1"
   ]
  },
  {
   "cell_type": "code",
   "execution_count": 57,
   "id": "23d7f4ca",
   "metadata": {},
   "outputs": [
    {
     "name": "stdout",
     "output_type": "stream",
     "text": [
      "['United States' 'Russia' 'UK' 'Netherlands' 'France' 'Sweden'\n",
      " 'New Zealand' 'Norway']\n",
      "Country Sums:  [1073, 167, 545, 19, 23, 114, 93, 9]\n"
     ]
    }
   ],
   "source": [
    "print(nukes[\"Country Source\"].unique())\n",
    "print(\"Country Sums: \", country_sums)"
   ]
  },
  {
   "cell_type": "code",
   "execution_count": 58,
   "id": "5566050d",
   "metadata": {},
   "outputs": [
    {
     "name": "stdout",
     "output_type": "stream",
     "text": [
      "United States    1073\n",
      "Russia            167\n",
      "UK                545\n",
      "Netherlands        19\n",
      "France             23\n",
      "Sweden            114\n",
      "New Zealand        93\n",
      "Norway              9\n",
      "dtype: int64\n"
     ]
    }
   ],
   "source": [
    "country_contribution = pd.Series(country_sums, index=[\"United States\", \"Russia\", \"UK\", \"Netherlands\", \"France\", \"Sweden\", \"New Zealand\", \"Norway\"])\n",
    "print(country_contribution)"
   ]
  },
  {
   "cell_type": "code",
   "execution_count": 63,
   "id": "084c261f",
   "metadata": {},
   "outputs": [
    {
     "data": {
      "text/plain": [
       "Text(0.5, 0, 'Countries')"
      ]
     },
     "execution_count": 63,
     "metadata": {},
     "output_type": "execute_result"
    },
    {
     "data": {
      "image/png": "[encoded data removed]",
      "text/plain": [
       "<Figure size 900x900 with 1 Axes>"
      ]
     },
     "metadata": {},
     "output_type": "display_data"
    }
   ],
   "source": [
    "country_contribution = country_contribution.sort_values(ascending=False)\n",
    "plt.figure(figsize=(9,9))\n",
    "sns.barplot(x=country_contribution.index, y=country_contribution)\n",
    "plt.title(\"Source Countries By Contribution to Nuclear Weapons in the Dataset\")\n",
    "plt.ylabel(\"Amount of Weapons Recorded in the Dataset\")\n",
    "plt.xlabel(\"Countries\")"
   ]
  },
  {
   "cell_type": "code",
   "execution_count": null,
   "id": "21c44238",
   "metadata": {},
   "outputs": [],
   "source": []
  }
 ],
 "metadata": {
  "kernelspec": {
   "display_name": "Python 3 (ipykernel)",
   "language": "python",
   "name": "python3"
  },
  "language_info": {
   "codemirror_mode": {
    "name": "ipython",
    "version": 3
   },
   "file_extension": ".py",
   "mimetype": "text/x-python",
   "name": "python",
   "nbconvert_exporter": "python",
   "pygments_lexer": "ipython3",
   "version": "3.10.9"
  }
 },
 "nbformat": 4,
 "nbformat_minor": 5
}
